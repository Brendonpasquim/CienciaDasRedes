{
 "cells": [
  {
   "cell_type": "code",
   "execution_count": 1,
   "id": "2eafd598",
   "metadata": {},
   "outputs": [],
   "source": [
    "# -*- coding: utf-8 -*-\n",
    "import networkx as nx\n",
    "import pandas as pd\n",
    "pontos_linha = pd.read_csv(\"2022_03_08_pontosLinha.csv\")\n",
    "\n",
    "def get_pontos_linha(codigo_linha: str, id_itineratio: int) -> pd.core.frame.DataFrame:\n",
    "    return pontos_linha.query(\"COD == @codigo_linha and ITINERARY_ID == @id_itineratio\").sort_values(\"SEQ\")\n",
    "\n",
    "def add_pontos_no_grafo(grafo: nx.classes.graph.Graph, pontos_linha: pd.core.frame.DataFrame) -> None:\n",
    "    for row in pontos_linha.itertuples(index=False):\n",
    "        NOME = getattr(row, 'NOME')\n",
    "        NUM = getattr(row, 'NUM')\n",
    "        SEQ = getattr(row, 'SEQ')\n",
    "        SENTIDO = getattr(row, 'SENTIDO')\n",
    "        ITINERARY_ID = getattr(row, 'ITINERARY_ID')\n",
    "        COD = getattr(row, 'COD')\n",
    "        if 'Terminal' in NOME:\n",
    "            NOME = NOME.split(' - ')[0]\n",
    "        \n",
    "        #Verifica se o nó/ponto já existe no grafo. Se sim, adiciona o código da linha na lista do nó/ponto já existente.\n",
    "        #Se não, cria um novo nó/ponto no grafo.\n",
    "        try:\n",
    "            COD_outras_linhas = grafo.nodes(data=True)[NOME]['cod']\n",
    "            if type(COD_outras_linhas) == list:\n",
    "                COD_outras_linhas.append(COD)\n",
    "            else:\n",
    "                new = []\n",
    "                new.append(COD_outras_linhas)\n",
    "                COD_outras_linhas = new\n",
    "                \n",
    "            grafo.nodes(data=True)[NOME]['cod'] = list(set(COD_outras_linhas))\n",
    "        except:\n",
    "            grafo.add_node(NOME, nome=NOME, num=NUM, seq=SEQ, sentido=SENTIDO, itinerario_id=ITINERARY_ID, cod=COD)       \n",
    "\n",
    "def add_arestas_entre_pontos(grafo: nx.classes.graph.Graph, pontos_linha: pd.core.frame.DataFrame) -> None:\n",
    "    pontos = list(grafo.nodes(data=True))\n",
    "    for i in range(1, len(pontos)):\n",
    "        source = pontos[i-1][0]\n",
    "        target = pontos[i][0]\n",
    "        grafo.add_edge(source,target)\n",
    "\n",
    "def get_linhas_por_terminal(nome_terminal: str) -> pd.core.frame.DataFrame:\n",
    "    nome_terminal = f\"{nome_terminal} -\"\n",
    "    codigos_linha = pontos_linha.query(\"NOME.str.contains(@nome_terminal)\", engine=\"python\").groupby(\"COD\")\n",
    "    return list(codigos_linha.groups.keys())\n",
    "\n",
    "def get_itinerarios_por_linha(codigo_linha: str) -> list:\n",
    "    return list(pontos_linha.query(\"COD == @codigo_linha\").sort_values(\"ITINERARY_ID\").groupby(\"ITINERARY_ID\").groups.keys())"
   ]
  },
  {
   "cell_type": "code",
   "execution_count": 2,
   "id": "2741d729",
   "metadata": {},
   "outputs": [
    {
     "data": {
      "text/plain": [
       "['030', '050', '302', '303', '321', '322', '323']"
      ]
     },
     "execution_count": 2,
     "metadata": {},
     "output_type": "execute_result"
    }
   ],
   "source": [
    "linhas = get_linhas_por_terminal(\"Terminal Oficinas\")\n",
    "linhas"
   ]
  },
  {
   "cell_type": "code",
   "execution_count": 3,
   "id": "cf953657",
   "metadata": {},
   "outputs": [],
   "source": [
    "grafo = nx.Graph()\n",
    "aaa = {}\n",
    "for codigo_linha in linhas:\n",
    "    id_itinerario = get_itinerarios_por_linha(codigo_linha)[0]\n",
    "    pontos = get_pontos_linha(codigo_linha, id_itinerario)\n",
    "    aaa[codigo_linha] = pontos\n",
    "    add_pontos_no_grafo(grafo, pontos)\n",
    "    add_arestas_entre_pontos(grafo, pontos)\n",
    "    #print(f\"{codigo_linha} - {id_itinerario} - {len(pontos)}\")"
   ]
  },
  {
   "cell_type": "markdown",
   "id": "d64e837e",
   "metadata": {},
   "source": [
    "zzz = pontos_linha.query(\"COD in ('030', '050', '302', '303', '321', '322', '323') and ITINERARY_ID in (488, 492, 2325, 1346, 10653, 10633, 634)\")\n",
    "zzz.sort_values(\"NOME\")"
   ]
  },
  {
   "cell_type": "markdown",
   "id": "7da60935",
   "metadata": {},
   "source": [
    "aaa[\"030\"]"
   ]
  },
  {
   "cell_type": "markdown",
   "id": "1d9200d1",
   "metadata": {},
   "source": [
    "b = list(aaa[\"030\"][\"NUM\"])\n",
    "a = list(aaa[\"050\"][\"NUM\"])\n",
    "count = 0\n",
    "for ponto in b:\n",
    "    if ponto in a:\n",
    "        print(ponto)\n",
    "        count += 1\n",
    "        \n",
    "print(count)"
   ]
  },
  {
   "cell_type": "code",
   "execution_count": 4,
   "id": "8309ac4a",
   "metadata": {},
   "outputs": [
    {
     "data": {
      "text/plain": [
       "201"
      ]
     },
     "execution_count": 4,
     "metadata": {},
     "output_type": "execute_result"
    }
   ],
   "source": [
    "len(grafo.nodes())"
   ]
  },
  {
   "cell_type": "code",
   "execution_count": 5,
   "id": "b19059f7",
   "metadata": {},
   "outputs": [
    {
     "data": {
      "text/plain": [
       "200"
      ]
     },
     "execution_count": 5,
     "metadata": {},
     "output_type": "execute_result"
    }
   ],
   "source": [
    "len(grafo.edges)"
   ]
  },
  {
   "cell_type": "code",
   "execution_count": 6,
   "id": "ce706c5d",
   "metadata": {},
   "outputs": [
    {
     "data": {
      "image/png": "[encoded data removed]",
      "text/plain": [
       "<Figure size 432x288 with 1 Axes>"
      ]
     },
     "metadata": {},
     "output_type": "display_data"
    }
   ],
   "source": [
    "nx.draw(grafo)"
   ]
  },
  {
   "cell_type": "code",
   "execution_count": 7,
   "id": "85d160b1",
   "metadata": {
    "scrolled": true
   },
   "outputs": [
    {
     "data": {
      "image/png": "[encoded data removed]",
      "text/plain": [
       "<Figure size 432x288 with 1 Axes>"
      ]
     },
     "metadata": {},
     "output_type": "display_data"
    }
   ],
   "source": [
    "nx.draw_circular(grafo)"
   ]
  },
  {
   "cell_type": "code",
   "execution_count": 8,
   "id": "f8742e77",
   "metadata": {},
   "outputs": [],
   "source": [
    "nx.write_gml(grafo, 'Terminal_Oficinas.gml')"
   ]
  },
  {
   "cell_type": "code",
   "execution_count": 9,
   "id": "08d0bbf7",
   "metadata": {},
   "outputs": [
    {
     "data": {
      "text/plain": [
       "{'nome': 'Terminal Oficinas',\n",
       " 'num': 105606,\n",
       " 'seq': 47,\n",
       " 'sentido': 'Terminal Santa Cândida Final de semana',\n",
       " 'itinerario_id': 488,\n",
       " 'cod': ['303', '321', '323', '322', '030', '302']}"
      ]
     },
     "execution_count": 9,
     "metadata": {},
     "output_type": "execute_result"
    }
   ],
   "source": [
    "grafo.nodes(data=True)[\"Terminal Oficinas\"]"
   ]
  },
  {
   "cell_type": "code",
   "execution_count": null,
   "id": "22595d17",
   "metadata": {},
   "outputs": [],
   "source": []
  }
 ],
 "metadata": {
  "kernelspec": {
   "display_name": "Python 3 (ipykernel)",
   "language": "python",
   "name": "python3"
  },
  "language_info": {
   "codemirror_mode": {
    "name": "ipython",
    "version": 3
   },
   "file_extension": ".py",
   "mimetype": "text/x-python",
   "name": "python",
   "nbconvert_exporter": "python",
   "pygments_lexer": "ipython3",
   "version": "3.9.7"
  }
 },
 "nbformat": 4,
 "nbformat_minor": 5
}
